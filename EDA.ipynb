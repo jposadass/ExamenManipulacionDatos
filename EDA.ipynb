{
 "cells": [
  {
   "cell_type": "code",
   "execution_count": 1,
   "id": "22bb333c-15fa-4423-949f-bf81fb5f700e",
   "metadata": {},
   "outputs": [],
   "source": [
    "import pandas as pd\n",
    "import numpy as np"
   ]
  },
  {
   "cell_type": "code",
   "execution_count": 2,
   "id": "fff59414-a73e-4e27-80ac-1684d5f21015",
   "metadata": {},
   "outputs": [],
   "source": [
    "vdf = pd.read_csv('fruitvegprices-2017_2022.csv')"
   ]
  },
  {
   "cell_type": "code",
   "execution_count": 3,
   "id": "6c6b0dae-14f0-4c7c-955e-4c7e08e287c7",
   "metadata": {},
   "outputs": [
    {
     "data": {
      "text/html": [
       "<div>\n",
       "<style scoped>\n",
       "    .dataframe tbody tr th:only-of-type {\n",
       "        vertical-align: middle;\n",
       "    }\n",
       "\n",
       "    .dataframe tbody tr th {\n",
       "        vertical-align: top;\n",
       "    }\n",
       "\n",
       "    .dataframe thead th {\n",
       "        text-align: right;\n",
       "    }\n",
       "</style>\n",
       "<table border=\"1\" class=\"dataframe\">\n",
       "  <thead>\n",
       "    <tr style=\"text-align: right;\">\n",
       "      <th></th>\n",
       "      <th>category</th>\n",
       "      <th>item</th>\n",
       "      <th>variety</th>\n",
       "      <th>date</th>\n",
       "      <th>price</th>\n",
       "      <th>unit</th>\n",
       "    </tr>\n",
       "  </thead>\n",
       "  <tbody>\n",
       "    <tr>\n",
       "      <th>0</th>\n",
       "      <td>fruit</td>\n",
       "      <td>apples</td>\n",
       "      <td>bramleys_seedling</td>\n",
       "      <td>2022-03-11</td>\n",
       "      <td>2.05</td>\n",
       "      <td>kg</td>\n",
       "    </tr>\n",
       "    <tr>\n",
       "      <th>1</th>\n",
       "      <td>fruit</td>\n",
       "      <td>apples</td>\n",
       "      <td>coxs_orange_group</td>\n",
       "      <td>2022-03-11</td>\n",
       "      <td>1.22</td>\n",
       "      <td>kg</td>\n",
       "    </tr>\n",
       "    <tr>\n",
       "      <th>2</th>\n",
       "      <td>fruit</td>\n",
       "      <td>apples</td>\n",
       "      <td>egremont_russet</td>\n",
       "      <td>2022-03-11</td>\n",
       "      <td>1.14</td>\n",
       "      <td>kg</td>\n",
       "    </tr>\n",
       "    <tr>\n",
       "      <th>3</th>\n",
       "      <td>fruit</td>\n",
       "      <td>apples</td>\n",
       "      <td>braeburn</td>\n",
       "      <td>2022-03-11</td>\n",
       "      <td>1.05</td>\n",
       "      <td>kg</td>\n",
       "    </tr>\n",
       "    <tr>\n",
       "      <th>4</th>\n",
       "      <td>fruit</td>\n",
       "      <td>apples</td>\n",
       "      <td>gala</td>\n",
       "      <td>2022-03-11</td>\n",
       "      <td>1.03</td>\n",
       "      <td>kg</td>\n",
       "    </tr>\n",
       "    <tr>\n",
       "      <th>...</th>\n",
       "      <td>...</td>\n",
       "      <td>...</td>\n",
       "      <td>...</td>\n",
       "      <td>...</td>\n",
       "      <td>...</td>\n",
       "      <td>...</td>\n",
       "    </tr>\n",
       "    <tr>\n",
       "      <th>9642</th>\n",
       "      <td>cut_flowers</td>\n",
       "      <td>alstromeria</td>\n",
       "      <td>indoor</td>\n",
       "      <td>2017-11-03</td>\n",
       "      <td>0.27</td>\n",
       "      <td>stem</td>\n",
       "    </tr>\n",
       "    <tr>\n",
       "      <th>9643</th>\n",
       "      <td>cut_flowers</td>\n",
       "      <td>chrysanthemum</td>\n",
       "      <td>indoor_spray</td>\n",
       "      <td>2017-11-03</td>\n",
       "      <td>0.22</td>\n",
       "      <td>stem</td>\n",
       "    </tr>\n",
       "    <tr>\n",
       "      <th>9644</th>\n",
       "      <td>cut_flowers</td>\n",
       "      <td>lillies</td>\n",
       "      <td>oriental</td>\n",
       "      <td>2017-11-03</td>\n",
       "      <td>0.70</td>\n",
       "      <td>stem</td>\n",
       "    </tr>\n",
       "    <tr>\n",
       "      <th>9645</th>\n",
       "      <td>cut_flowers</td>\n",
       "      <td>narcissus</td>\n",
       "      <td>indoor</td>\n",
       "      <td>2017-11-03</td>\n",
       "      <td>0.06</td>\n",
       "      <td>stem</td>\n",
       "    </tr>\n",
       "    <tr>\n",
       "      <th>9646</th>\n",
       "      <td>pot_plants</td>\n",
       "      <td>cyclamen</td>\n",
       "      <td>13_cm</td>\n",
       "      <td>2017-11-03</td>\n",
       "      <td>0.75</td>\n",
       "      <td>unit</td>\n",
       "    </tr>\n",
       "  </tbody>\n",
       "</table>\n",
       "<p>9647 rows × 6 columns</p>\n",
       "</div>"
      ],
      "text/plain": [
       "         category           item            variety        date  price  unit\n",
       "0           fruit         apples  bramleys_seedling  2022-03-11   2.05    kg\n",
       "1           fruit         apples  coxs_orange_group  2022-03-11   1.22    kg\n",
       "2           fruit         apples    egremont_russet  2022-03-11   1.14    kg\n",
       "3           fruit         apples           braeburn  2022-03-11   1.05    kg\n",
       "4           fruit         apples               gala  2022-03-11   1.03    kg\n",
       "...           ...            ...                ...         ...    ...   ...\n",
       "9642  cut_flowers    alstromeria             indoor  2017-11-03   0.27  stem\n",
       "9643  cut_flowers  chrysanthemum       indoor_spray  2017-11-03   0.22  stem\n",
       "9644  cut_flowers        lillies           oriental  2017-11-03   0.70  stem\n",
       "9645  cut_flowers      narcissus             indoor  2017-11-03   0.06  stem\n",
       "9646   pot_plants       cyclamen              13_cm  2017-11-03   0.75  unit\n",
       "\n",
       "[9647 rows x 6 columns]"
      ]
     },
     "execution_count": 3,
     "metadata": {},
     "output_type": "execute_result"
    }
   ],
   "source": [
    "vdf"
   ]
  },
  {
   "cell_type": "markdown",
   "id": "dc42ff16-f208-4782-b9b8-944a59d16961",
   "metadata": {},
   "source": [
    "## Ejercicios"
   ]
  },
  {
   "cell_type": "markdown",
   "id": "5f974629-c2d2-46ad-86e2-8ed3366fc74b",
   "metadata": {},
   "source": [
    "### Ejercicio uno: realice un analisis de valores nulos\n",
    "\n",
    "En caso de existir valores nulos elimine esos registros"
   ]
  },
  {
   "cell_type": "markdown",
   "id": "b2a9d2d4-8918-4a06-881d-2306190c9206",
   "metadata": {},
   "source": [
    "--- Analizo los valores nulos con la funcion 'isna' y los sumo por categoria para ver cuantos hay. No hay valores nulos"
   ]
  },
  {
   "cell_type": "code",
   "execution_count": 5,
   "id": "9b4e5f2f-3477-4cec-afab-51e40ef0b2eb",
   "metadata": {},
   "outputs": [
    {
     "data": {
      "text/plain": [
       "category    0\n",
       "item        0\n",
       "variety     0\n",
       "date        0\n",
       "price       0\n",
       "unit        0\n",
       "dtype: int64"
      ]
     },
     "execution_count": 5,
     "metadata": {},
     "output_type": "execute_result"
    }
   ],
   "source": [
    "vdf.isna().sum()"
   ]
  },
  {
   "cell_type": "markdown",
   "id": "29ce0f74-b6a8-40cb-90d9-a2032bb2eacc",
   "metadata": {},
   "source": [
    "### Ejercicio dos: Por categoria, cuantos distintos items hay y cuantos distintos variety hay?\n",
    "\n",
    "El resultado debe de tener el siguiente formato de presentacion:"
   ]
  },
  {
   "cell_type": "code",
   "execution_count": 26,
   "id": "80dfe19b-71f2-4107-b639-07d91ab50a91",
   "metadata": {},
   "outputs": [
    {
     "data": {
      "text/html": [
       "<div>\n",
       "<style scoped>\n",
       "    .dataframe tbody tr th:only-of-type {\n",
       "        vertical-align: middle;\n",
       "    }\n",
       "\n",
       "    .dataframe tbody tr th {\n",
       "        vertical-align: top;\n",
       "    }\n",
       "\n",
       "    .dataframe thead th {\n",
       "        text-align: right;\n",
       "    }\n",
       "</style>\n",
       "<table border=\"1\" class=\"dataframe\">\n",
       "  <thead>\n",
       "    <tr style=\"text-align: right;\">\n",
       "      <th></th>\n",
       "      <th>category</th>\n",
       "      <th>item_count</th>\n",
       "      <th>variety_Count</th>\n",
       "    </tr>\n",
       "  </thead>\n",
       "  <tbody>\n",
       "    <tr>\n",
       "      <th>0</th>\n",
       "      <td>cut_flowers</td>\n",
       "      <td>9</td>\n",
       "      <td>10</td>\n",
       "    </tr>\n",
       "    <tr>\n",
       "      <th>1</th>\n",
       "      <td>fruit</td>\n",
       "      <td>10</td>\n",
       "      <td>21</td>\n",
       "    </tr>\n",
       "  </tbody>\n",
       "</table>\n",
       "</div>"
      ],
      "text/plain": [
       "      category  item_count  variety_Count\n",
       "0  cut_flowers           9             10\n",
       "1        fruit          10             21"
      ]
     },
     "execution_count": 26,
     "metadata": {},
     "output_type": "execute_result"
    }
   ],
   "source": [
    "pd.DataFrame({\n",
    "    \"category\" : ['cut_flowers','fruit']\n",
    "    , \"item_count\" : [9,10]\n",
    "    , \"variety_Count\" : [10,21]\n",
    "})"
   ]
  },
  {
   "cell_type": "markdown",
   "id": "59e6f7f6-5a1d-4e24-bbbf-49c71a71e329",
   "metadata": {},
   "source": [
    "Como nota en un mismo dataframe mostramos todo lo solicitado, usted debe de mostrar todas las categorias"
   ]
  },
  {
   "cell_type": "markdown",
   "id": "9403644c-1ffb-4b2d-8887-c87a9f932a6e",
   "metadata": {},
   "source": [
    "---- Elimino los valores duplicados y luego agrupo por item y variety y hago un count en la agregacion"
   ]
  },
  {
   "cell_type": "code",
   "execution_count": 69,
   "id": "1edda033-ecff-47da-a53a-113b619f15a8",
   "metadata": {},
   "outputs": [],
   "source": [
    "vdf2 = vdf.loc[ : , ['category', 'item', 'variety']].drop_duplicates()"
   ]
  },
  {
   "cell_type": "code",
   "execution_count": 81,
   "id": "c6a7f923-a51e-4570-a124-59359504a172",
   "metadata": {},
   "outputs": [],
   "source": [
    "item = vdf2.groupby(['category'], as_index = False).agg({'item' : ['count']})"
   ]
  },
  {
   "cell_type": "code",
   "execution_count": 80,
   "id": "40479889-a478-47b1-b0db-8d1354c13d77",
   "metadata": {},
   "outputs": [],
   "source": [
    "variety = vdf2.groupby(['category'], as_index = False).agg({'variety' : ['count']})"
   ]
  },
  {
   "cell_type": "code",
   "execution_count": 82,
   "id": "ae8dee76-afa6-4582-8fd6-ab6d9bbe397f",
   "metadata": {},
   "outputs": [
    {
     "data": {
      "text/html": [
       "<div>\n",
       "<style scoped>\n",
       "    .dataframe tbody tr th:only-of-type {\n",
       "        vertical-align: middle;\n",
       "    }\n",
       "\n",
       "    .dataframe tbody tr th {\n",
       "        vertical-align: top;\n",
       "    }\n",
       "\n",
       "    .dataframe thead tr th {\n",
       "        text-align: left;\n",
       "    }\n",
       "</style>\n",
       "<table border=\"1\" class=\"dataframe\">\n",
       "  <thead>\n",
       "    <tr>\n",
       "      <th></th>\n",
       "      <th>category</th>\n",
       "      <th>item</th>\n",
       "    </tr>\n",
       "    <tr>\n",
       "      <th></th>\n",
       "      <th></th>\n",
       "      <th>count</th>\n",
       "    </tr>\n",
       "  </thead>\n",
       "  <tbody>\n",
       "    <tr>\n",
       "      <th>0</th>\n",
       "      <td>cut_flowers</td>\n",
       "      <td>10</td>\n",
       "    </tr>\n",
       "    <tr>\n",
       "      <th>1</th>\n",
       "      <td>fruit</td>\n",
       "      <td>21</td>\n",
       "    </tr>\n",
       "    <tr>\n",
       "      <th>2</th>\n",
       "      <td>pot_plants</td>\n",
       "      <td>4</td>\n",
       "    </tr>\n",
       "    <tr>\n",
       "      <th>3</th>\n",
       "      <td>vegetable</td>\n",
       "      <td>50</td>\n",
       "    </tr>\n",
       "  </tbody>\n",
       "</table>\n",
       "</div>"
      ],
      "text/plain": [
       "      category  item\n",
       "               count\n",
       "0  cut_flowers    10\n",
       "1        fruit    21\n",
       "2   pot_plants     4\n",
       "3    vegetable    50"
      ]
     },
     "execution_count": 82,
     "metadata": {},
     "output_type": "execute_result"
    }
   ],
   "source": [
    "item"
   ]
  },
  {
   "cell_type": "code",
   "execution_count": 83,
   "id": "af251072-c398-4440-9ade-28709300dea0",
   "metadata": {},
   "outputs": [
    {
     "data": {
      "text/html": [
       "<div>\n",
       "<style scoped>\n",
       "    .dataframe tbody tr th:only-of-type {\n",
       "        vertical-align: middle;\n",
       "    }\n",
       "\n",
       "    .dataframe tbody tr th {\n",
       "        vertical-align: top;\n",
       "    }\n",
       "\n",
       "    .dataframe thead tr th {\n",
       "        text-align: left;\n",
       "    }\n",
       "</style>\n",
       "<table border=\"1\" class=\"dataframe\">\n",
       "  <thead>\n",
       "    <tr>\n",
       "      <th></th>\n",
       "      <th>category</th>\n",
       "      <th>variety</th>\n",
       "    </tr>\n",
       "    <tr>\n",
       "      <th></th>\n",
       "      <th></th>\n",
       "      <th>count</th>\n",
       "    </tr>\n",
       "  </thead>\n",
       "  <tbody>\n",
       "    <tr>\n",
       "      <th>0</th>\n",
       "      <td>cut_flowers</td>\n",
       "      <td>10</td>\n",
       "    </tr>\n",
       "    <tr>\n",
       "      <th>1</th>\n",
       "      <td>fruit</td>\n",
       "      <td>21</td>\n",
       "    </tr>\n",
       "    <tr>\n",
       "      <th>2</th>\n",
       "      <td>pot_plants</td>\n",
       "      <td>4</td>\n",
       "    </tr>\n",
       "    <tr>\n",
       "      <th>3</th>\n",
       "      <td>vegetable</td>\n",
       "      <td>50</td>\n",
       "    </tr>\n",
       "  </tbody>\n",
       "</table>\n",
       "</div>"
      ],
      "text/plain": [
       "      category variety\n",
       "                 count\n",
       "0  cut_flowers      10\n",
       "1        fruit      21\n",
       "2   pot_plants       4\n",
       "3    vegetable      50"
      ]
     },
     "execution_count": 83,
     "metadata": {},
     "output_type": "execute_result"
    }
   ],
   "source": [
    "variety"
   ]
  },
  {
   "cell_type": "markdown",
   "id": "43e5f5d2-0709-4501-8aa9-ed8561463779",
   "metadata": {},
   "source": [
    "--- Uno ambas tablas por medio de merge usando la categoria que es la misma en ambas tablas"
   ]
  },
  {
   "cell_type": "code",
   "execution_count": 86,
   "id": "308803de-536d-452b-b8bc-3b4ad1f6fe66",
   "metadata": {},
   "outputs": [
    {
     "name": "stderr",
     "output_type": "stream",
     "text": [
      "C:\\Users\\chuii\\anaconda3\\lib\\site-packages\\pandas\\core\\generic.py:4150: PerformanceWarning: dropping on a non-lexsorted multi-index without a level parameter may impact performance.\n",
      "  obj = obj._drop_axis(labels, axis, level=level, errors=errors)\n"
     ]
    }
   ],
   "source": [
    "##pd.merge(item, variety, on='category')\n",
    "df= pd.merge(item, variety, on='category', how='outer')"
   ]
  },
  {
   "cell_type": "code",
   "execution_count": 87,
   "id": "6141b6bb-1ce4-41d2-94c8-5ca36ae2b999",
   "metadata": {},
   "outputs": [
    {
     "data": {
      "text/html": [
       "<div>\n",
       "<style scoped>\n",
       "    .dataframe tbody tr th:only-of-type {\n",
       "        vertical-align: middle;\n",
       "    }\n",
       "\n",
       "    .dataframe tbody tr th {\n",
       "        vertical-align: top;\n",
       "    }\n",
       "\n",
       "    .dataframe thead tr th {\n",
       "        text-align: left;\n",
       "    }\n",
       "</style>\n",
       "<table border=\"1\" class=\"dataframe\">\n",
       "  <thead>\n",
       "    <tr>\n",
       "      <th></th>\n",
       "      <th>category</th>\n",
       "      <th>item</th>\n",
       "      <th>variety</th>\n",
       "    </tr>\n",
       "    <tr>\n",
       "      <th></th>\n",
       "      <th></th>\n",
       "      <th>count</th>\n",
       "      <th>count</th>\n",
       "    </tr>\n",
       "  </thead>\n",
       "  <tbody>\n",
       "    <tr>\n",
       "      <th>0</th>\n",
       "      <td>cut_flowers</td>\n",
       "      <td>10</td>\n",
       "      <td>10</td>\n",
       "    </tr>\n",
       "    <tr>\n",
       "      <th>1</th>\n",
       "      <td>fruit</td>\n",
       "      <td>21</td>\n",
       "      <td>21</td>\n",
       "    </tr>\n",
       "    <tr>\n",
       "      <th>2</th>\n",
       "      <td>pot_plants</td>\n",
       "      <td>4</td>\n",
       "      <td>4</td>\n",
       "    </tr>\n",
       "    <tr>\n",
       "      <th>3</th>\n",
       "      <td>vegetable</td>\n",
       "      <td>50</td>\n",
       "      <td>50</td>\n",
       "    </tr>\n",
       "  </tbody>\n",
       "</table>\n",
       "</div>"
      ],
      "text/plain": [
       "      category  item variety\n",
       "               count   count\n",
       "0  cut_flowers    10      10\n",
       "1        fruit    21      21\n",
       "2   pot_plants     4       4\n",
       "3    vegetable    50      50"
      ]
     },
     "execution_count": 87,
     "metadata": {},
     "output_type": "execute_result"
    }
   ],
   "source": [
    "df"
   ]
  },
  {
   "cell_type": "markdown",
   "id": "a382b08f-131f-4c83-a827-54fd51a1623c",
   "metadata": {},
   "source": [
    "--- Renombro y elimino una fila de columnas"
   ]
  },
  {
   "cell_type": "code",
   "execution_count": 88,
   "id": "0dc12fc4-c670-4e4b-a589-b3ad737fd273",
   "metadata": {},
   "outputs": [],
   "source": [
    "df.columns = df.columns.droplevel(0)"
   ]
  },
  {
   "cell_type": "code",
   "execution_count": 89,
   "id": "ca8ee783-7314-41f0-b124-8d26667cb1c0",
   "metadata": {},
   "outputs": [],
   "source": [
    "df.columns = ['category', 'item_count', 'variety_count']"
   ]
  },
  {
   "cell_type": "code",
   "execution_count": 90,
   "id": "78b9ce8b-e321-4ebf-a67d-239143cfa38c",
   "metadata": {},
   "outputs": [
    {
     "data": {
      "text/html": [
       "<div>\n",
       "<style scoped>\n",
       "    .dataframe tbody tr th:only-of-type {\n",
       "        vertical-align: middle;\n",
       "    }\n",
       "\n",
       "    .dataframe tbody tr th {\n",
       "        vertical-align: top;\n",
       "    }\n",
       "\n",
       "    .dataframe thead th {\n",
       "        text-align: right;\n",
       "    }\n",
       "</style>\n",
       "<table border=\"1\" class=\"dataframe\">\n",
       "  <thead>\n",
       "    <tr style=\"text-align: right;\">\n",
       "      <th></th>\n",
       "      <th>category</th>\n",
       "      <th>item_count</th>\n",
       "      <th>variety_count</th>\n",
       "    </tr>\n",
       "  </thead>\n",
       "  <tbody>\n",
       "    <tr>\n",
       "      <th>0</th>\n",
       "      <td>cut_flowers</td>\n",
       "      <td>10</td>\n",
       "      <td>10</td>\n",
       "    </tr>\n",
       "    <tr>\n",
       "      <th>1</th>\n",
       "      <td>fruit</td>\n",
       "      <td>21</td>\n",
       "      <td>21</td>\n",
       "    </tr>\n",
       "    <tr>\n",
       "      <th>2</th>\n",
       "      <td>pot_plants</td>\n",
       "      <td>4</td>\n",
       "      <td>4</td>\n",
       "    </tr>\n",
       "    <tr>\n",
       "      <th>3</th>\n",
       "      <td>vegetable</td>\n",
       "      <td>50</td>\n",
       "      <td>50</td>\n",
       "    </tr>\n",
       "  </tbody>\n",
       "</table>\n",
       "</div>"
      ],
      "text/plain": [
       "      category  item_count  variety_count\n",
       "0  cut_flowers          10             10\n",
       "1        fruit          21             21\n",
       "2   pot_plants           4              4\n",
       "3    vegetable          50             50"
      ]
     },
     "execution_count": 90,
     "metadata": {},
     "output_type": "execute_result"
    }
   ],
   "source": [
    "df"
   ]
  },
  {
   "cell_type": "markdown",
   "id": "74d700c1-351e-4e03-b319-4aabd9346cf3",
   "metadata": {},
   "source": [
    "### Ejercicio tres: Para la combinacion item, variety muestre el ultimo valor registrado por año.\n",
    "\n",
    "Ejemplo de como debe de mostrar su respuesta"
   ]
  },
  {
   "cell_type": "code",
   "execution_count": 27,
   "id": "4c36623d-c6e1-4d4d-b97c-ad03b5d2df3e",
   "metadata": {},
   "outputs": [
    {
     "data": {
      "text/html": [
       "<div>\n",
       "<style scoped>\n",
       "    .dataframe tbody tr th:only-of-type {\n",
       "        vertical-align: middle;\n",
       "    }\n",
       "\n",
       "    .dataframe tbody tr th {\n",
       "        vertical-align: top;\n",
       "    }\n",
       "\n",
       "    .dataframe thead th {\n",
       "        text-align: right;\n",
       "    }\n",
       "</style>\n",
       "<table border=\"1\" class=\"dataframe\">\n",
       "  <thead>\n",
       "    <tr style=\"text-align: right;\">\n",
       "      <th></th>\n",
       "      <th>item</th>\n",
       "      <th>variety</th>\n",
       "      <th>year</th>\n",
       "      <th>last_price</th>\n",
       "    </tr>\n",
       "  </thead>\n",
       "  <tbody>\n",
       "    <tr>\n",
       "      <th>0</th>\n",
       "      <td>Manzana</td>\n",
       "      <td>Gala</td>\n",
       "      <td>2022</td>\n",
       "      <td>3.2</td>\n",
       "    </tr>\n",
       "  </tbody>\n",
       "</table>\n",
       "</div>"
      ],
      "text/plain": [
       "      item variety  year  last_price\n",
       "0  Manzana    Gala  2022         3.2"
      ]
     },
     "execution_count": 27,
     "metadata": {},
     "output_type": "execute_result"
    }
   ],
   "source": [
    "pd.DataFrame({\n",
    "    \"item\" : ['Manzana']\n",
    "    , \"variety\" : ['Gala']\n",
    "    , \"year\" : [2022]\n",
    "    , \"last_price\" :  [3.2]\n",
    "})"
   ]
  },
  {
   "cell_type": "code",
   "execution_count": 92,
   "id": "5936e504-6cc9-469a-ada7-7e74659bbdb0",
   "metadata": {},
   "outputs": [
    {
     "data": {
      "text/html": [
       "<div>\n",
       "<style scoped>\n",
       "    .dataframe tbody tr th:only-of-type {\n",
       "        vertical-align: middle;\n",
       "    }\n",
       "\n",
       "    .dataframe tbody tr th {\n",
       "        vertical-align: top;\n",
       "    }\n",
       "\n",
       "    .dataframe thead th {\n",
       "        text-align: right;\n",
       "    }\n",
       "</style>\n",
       "<table border=\"1\" class=\"dataframe\">\n",
       "  <thead>\n",
       "    <tr style=\"text-align: right;\">\n",
       "      <th></th>\n",
       "      <th>category</th>\n",
       "      <th>item</th>\n",
       "      <th>variety</th>\n",
       "      <th>date</th>\n",
       "      <th>price</th>\n",
       "      <th>unit</th>\n",
       "    </tr>\n",
       "  </thead>\n",
       "  <tbody>\n",
       "    <tr>\n",
       "      <th>0</th>\n",
       "      <td>fruit</td>\n",
       "      <td>apples</td>\n",
       "      <td>bramleys_seedling</td>\n",
       "      <td>2022-03-11</td>\n",
       "      <td>2.05</td>\n",
       "      <td>kg</td>\n",
       "    </tr>\n",
       "    <tr>\n",
       "      <th>1</th>\n",
       "      <td>fruit</td>\n",
       "      <td>apples</td>\n",
       "      <td>coxs_orange_group</td>\n",
       "      <td>2022-03-11</td>\n",
       "      <td>1.22</td>\n",
       "      <td>kg</td>\n",
       "    </tr>\n",
       "    <tr>\n",
       "      <th>2</th>\n",
       "      <td>fruit</td>\n",
       "      <td>apples</td>\n",
       "      <td>egremont_russet</td>\n",
       "      <td>2022-03-11</td>\n",
       "      <td>1.14</td>\n",
       "      <td>kg</td>\n",
       "    </tr>\n",
       "    <tr>\n",
       "      <th>3</th>\n",
       "      <td>fruit</td>\n",
       "      <td>apples</td>\n",
       "      <td>braeburn</td>\n",
       "      <td>2022-03-11</td>\n",
       "      <td>1.05</td>\n",
       "      <td>kg</td>\n",
       "    </tr>\n",
       "    <tr>\n",
       "      <th>4</th>\n",
       "      <td>fruit</td>\n",
       "      <td>apples</td>\n",
       "      <td>gala</td>\n",
       "      <td>2022-03-11</td>\n",
       "      <td>1.03</td>\n",
       "      <td>kg</td>\n",
       "    </tr>\n",
       "    <tr>\n",
       "      <th>...</th>\n",
       "      <td>...</td>\n",
       "      <td>...</td>\n",
       "      <td>...</td>\n",
       "      <td>...</td>\n",
       "      <td>...</td>\n",
       "      <td>...</td>\n",
       "    </tr>\n",
       "    <tr>\n",
       "      <th>9642</th>\n",
       "      <td>cut_flowers</td>\n",
       "      <td>alstromeria</td>\n",
       "      <td>indoor</td>\n",
       "      <td>2017-11-03</td>\n",
       "      <td>0.27</td>\n",
       "      <td>stem</td>\n",
       "    </tr>\n",
       "    <tr>\n",
       "      <th>9643</th>\n",
       "      <td>cut_flowers</td>\n",
       "      <td>chrysanthemum</td>\n",
       "      <td>indoor_spray</td>\n",
       "      <td>2017-11-03</td>\n",
       "      <td>0.22</td>\n",
       "      <td>stem</td>\n",
       "    </tr>\n",
       "    <tr>\n",
       "      <th>9644</th>\n",
       "      <td>cut_flowers</td>\n",
       "      <td>lillies</td>\n",
       "      <td>oriental</td>\n",
       "      <td>2017-11-03</td>\n",
       "      <td>0.70</td>\n",
       "      <td>stem</td>\n",
       "    </tr>\n",
       "    <tr>\n",
       "      <th>9645</th>\n",
       "      <td>cut_flowers</td>\n",
       "      <td>narcissus</td>\n",
       "      <td>indoor</td>\n",
       "      <td>2017-11-03</td>\n",
       "      <td>0.06</td>\n",
       "      <td>stem</td>\n",
       "    </tr>\n",
       "    <tr>\n",
       "      <th>9646</th>\n",
       "      <td>pot_plants</td>\n",
       "      <td>cyclamen</td>\n",
       "      <td>13_cm</td>\n",
       "      <td>2017-11-03</td>\n",
       "      <td>0.75</td>\n",
       "      <td>unit</td>\n",
       "    </tr>\n",
       "  </tbody>\n",
       "</table>\n",
       "<p>9647 rows × 6 columns</p>\n",
       "</div>"
      ],
      "text/plain": [
       "         category           item            variety        date  price  unit\n",
       "0           fruit         apples  bramleys_seedling  2022-03-11   2.05    kg\n",
       "1           fruit         apples  coxs_orange_group  2022-03-11   1.22    kg\n",
       "2           fruit         apples    egremont_russet  2022-03-11   1.14    kg\n",
       "3           fruit         apples           braeburn  2022-03-11   1.05    kg\n",
       "4           fruit         apples               gala  2022-03-11   1.03    kg\n",
       "...           ...            ...                ...         ...    ...   ...\n",
       "9642  cut_flowers    alstromeria             indoor  2017-11-03   0.27  stem\n",
       "9643  cut_flowers  chrysanthemum       indoor_spray  2017-11-03   0.22  stem\n",
       "9644  cut_flowers        lillies           oriental  2017-11-03   0.70  stem\n",
       "9645  cut_flowers      narcissus             indoor  2017-11-03   0.06  stem\n",
       "9646   pot_plants       cyclamen              13_cm  2017-11-03   0.75  unit\n",
       "\n",
       "[9647 rows x 6 columns]"
      ]
     },
     "execution_count": 92,
     "metadata": {},
     "output_type": "execute_result"
    }
   ],
   "source": [
    "vdf"
   ]
  },
  {
   "cell_type": "markdown",
   "id": "4bc28b52-2e7e-44d3-aacc-bc22e452fad0",
   "metadata": {},
   "source": [
    "---- Aqui saco solo el anio de cada fecha"
   ]
  },
  {
   "cell_type": "code",
   "execution_count": 136,
   "id": "4a59b71b-09e1-4ce6-8ba1-b4e68f66ee96",
   "metadata": {},
   "outputs": [],
   "source": [
    "vdf['year'] = pd.to_datetime(vdf['date'])"
   ]
  },
  {
   "cell_type": "code",
   "execution_count": 137,
   "id": "9998ea9c-a8da-4951-99c0-02eb18e293f6",
   "metadata": {},
   "outputs": [],
   "source": [
    "vdf['year'] = vdf['year'].dt.year"
   ]
  },
  {
   "cell_type": "markdown",
   "id": "aefcb334-31e1-4c44-9620-88319ef962d2",
   "metadata": {},
   "source": [
    "---- Obtengo solo las columnas que quiero mostrar en vdf1. Las agrupo y saco el max en base al anio"
   ]
  },
  {
   "cell_type": "code",
   "execution_count": 160,
   "id": "edca3fbd-5636-4aa1-8a06-afa937248457",
   "metadata": {},
   "outputs": [],
   "source": [
    "vdf1 = vdf.loc [ : , ['item', 'variety', 'year', 'price'] ]"
   ]
  },
  {
   "cell_type": "code",
   "execution_count": 157,
   "id": "7967e872-10ec-4c17-94b2-ea5504fb7c0d",
   "metadata": {},
   "outputs": [],
   "source": [
    "vdf2 = vdf1.groupby(['item', 'variety','year'], as_index = False).max('year')"
   ]
  },
  {
   "cell_type": "code",
   "execution_count": 162,
   "id": "cc7cbe2e-f9ea-41eb-ac33-8a36cf870eec",
   "metadata": {},
   "outputs": [],
   "source": [
    "##vdf2.columns = vdf2.columns.droplevel(0)\n",
    "vdf2.columns = ['item', 'variety', 'year', 'last_price']"
   ]
  },
  {
   "cell_type": "markdown",
   "id": "d7383161-6d5e-49ef-9d74-05961c56226b",
   "metadata": {},
   "source": [
    "----last_price muestra el valor por cada anio (comninacion de item y variety)"
   ]
  },
  {
   "cell_type": "code",
   "execution_count": 163,
   "id": "8a16e88f-7625-4004-9a03-dcde1d064494",
   "metadata": {},
   "outputs": [
    {
     "data": {
      "text/html": [
       "<div>\n",
       "<style scoped>\n",
       "    .dataframe tbody tr th:only-of-type {\n",
       "        vertical-align: middle;\n",
       "    }\n",
       "\n",
       "    .dataframe tbody tr th {\n",
       "        vertical-align: top;\n",
       "    }\n",
       "\n",
       "    .dataframe thead th {\n",
       "        text-align: right;\n",
       "    }\n",
       "</style>\n",
       "<table border=\"1\" class=\"dataframe\">\n",
       "  <thead>\n",
       "    <tr style=\"text-align: right;\">\n",
       "      <th></th>\n",
       "      <th>item</th>\n",
       "      <th>variety</th>\n",
       "      <th>year</th>\n",
       "      <th>last_price</th>\n",
       "    </tr>\n",
       "  </thead>\n",
       "  <tbody>\n",
       "    <tr>\n",
       "      <th>0</th>\n",
       "      <td>alstromeria</td>\n",
       "      <td>indoor</td>\n",
       "      <td>2017</td>\n",
       "      <td>0.29</td>\n",
       "    </tr>\n",
       "    <tr>\n",
       "      <th>1</th>\n",
       "      <td>alstromeria</td>\n",
       "      <td>indoor</td>\n",
       "      <td>2018</td>\n",
       "      <td>0.34</td>\n",
       "    </tr>\n",
       "    <tr>\n",
       "      <th>2</th>\n",
       "      <td>apples</td>\n",
       "      <td>braeburn</td>\n",
       "      <td>2017</td>\n",
       "      <td>0.72</td>\n",
       "    </tr>\n",
       "    <tr>\n",
       "      <th>3</th>\n",
       "      <td>apples</td>\n",
       "      <td>braeburn</td>\n",
       "      <td>2018</td>\n",
       "      <td>1.05</td>\n",
       "    </tr>\n",
       "    <tr>\n",
       "      <th>4</th>\n",
       "      <td>apples</td>\n",
       "      <td>braeburn</td>\n",
       "      <td>2019</td>\n",
       "      <td>1.11</td>\n",
       "    </tr>\n",
       "    <tr>\n",
       "      <th>...</th>\n",
       "      <td>...</td>\n",
       "      <td>...</td>\n",
       "      <td>...</td>\n",
       "      <td>...</td>\n",
       "    </tr>\n",
       "    <tr>\n",
       "      <th>392</th>\n",
       "      <td>turnip</td>\n",
       "      <td>turnip</td>\n",
       "      <td>2021</td>\n",
       "      <td>1.83</td>\n",
       "    </tr>\n",
       "    <tr>\n",
       "      <th>393</th>\n",
       "      <td>turnip</td>\n",
       "      <td>turnip</td>\n",
       "      <td>2022</td>\n",
       "      <td>1.87</td>\n",
       "    </tr>\n",
       "    <tr>\n",
       "      <th>394</th>\n",
       "      <td>watercress</td>\n",
       "      <td>pillow_packs</td>\n",
       "      <td>2017</td>\n",
       "      <td>11.44</td>\n",
       "    </tr>\n",
       "    <tr>\n",
       "      <th>395</th>\n",
       "      <td>watercress</td>\n",
       "      <td>pillow_packs</td>\n",
       "      <td>2018</td>\n",
       "      <td>12.68</td>\n",
       "    </tr>\n",
       "    <tr>\n",
       "      <th>396</th>\n",
       "      <td>watercress</td>\n",
       "      <td>pillow_packs</td>\n",
       "      <td>2019</td>\n",
       "      <td>10.16</td>\n",
       "    </tr>\n",
       "  </tbody>\n",
       "</table>\n",
       "<p>397 rows × 4 columns</p>\n",
       "</div>"
      ],
      "text/plain": [
       "            item       variety  year  last_price\n",
       "0    alstromeria        indoor  2017        0.29\n",
       "1    alstromeria        indoor  2018        0.34\n",
       "2         apples      braeburn  2017        0.72\n",
       "3         apples      braeburn  2018        1.05\n",
       "4         apples      braeburn  2019        1.11\n",
       "..           ...           ...   ...         ...\n",
       "392       turnip        turnip  2021        1.83\n",
       "393       turnip        turnip  2022        1.87\n",
       "394   watercress  pillow_packs  2017       11.44\n",
       "395   watercress  pillow_packs  2018       12.68\n",
       "396   watercress  pillow_packs  2019       10.16\n",
       "\n",
       "[397 rows x 4 columns]"
      ]
     },
     "execution_count": 163,
     "metadata": {},
     "output_type": "execute_result"
    }
   ],
   "source": [
    "vdf2"
   ]
  },
  {
   "cell_type": "markdown",
   "id": "d6539b13-ca3b-4270-a707-5353ea763167",
   "metadata": {},
   "source": [
    "### Ejercicio cuatro: Segun el ejercicio tres, que tanto aumento o disminuyo el precio de cada item-variety \n",
    "\n",
    "Ejemplo de como se debe de mostrar su respuesta"
   ]
  },
  {
   "cell_type": "code",
   "execution_count": 28,
   "id": "88f4e8d0-09ba-4e99-9424-4a435c6d72fc",
   "metadata": {},
   "outputs": [
    {
     "data": {
      "text/html": [
       "<div>\n",
       "<style scoped>\n",
       "    .dataframe tbody tr th:only-of-type {\n",
       "        vertical-align: middle;\n",
       "    }\n",
       "\n",
       "    .dataframe tbody tr th {\n",
       "        vertical-align: top;\n",
       "    }\n",
       "\n",
       "    .dataframe thead th {\n",
       "        text-align: right;\n",
       "    }\n",
       "</style>\n",
       "<table border=\"1\" class=\"dataframe\">\n",
       "  <thead>\n",
       "    <tr style=\"text-align: right;\">\n",
       "      <th></th>\n",
       "      <th>item</th>\n",
       "      <th>variety</th>\n",
       "      <th>year</th>\n",
       "      <th>last_price</th>\n",
       "      <th>delta</th>\n",
       "    </tr>\n",
       "  </thead>\n",
       "  <tbody>\n",
       "    <tr>\n",
       "      <th>0</th>\n",
       "      <td>Manzana</td>\n",
       "      <td>Gala</td>\n",
       "      <td>2020</td>\n",
       "      <td>2.7</td>\n",
       "      <td>0.0</td>\n",
       "    </tr>\n",
       "    <tr>\n",
       "      <th>1</th>\n",
       "      <td>Manzana</td>\n",
       "      <td>Gala</td>\n",
       "      <td>2021</td>\n",
       "      <td>2.5</td>\n",
       "      <td>-0.2</td>\n",
       "    </tr>\n",
       "    <tr>\n",
       "      <th>2</th>\n",
       "      <td>Manzana</td>\n",
       "      <td>Gala</td>\n",
       "      <td>2022</td>\n",
       "      <td>3.2</td>\n",
       "      <td>0.7</td>\n",
       "    </tr>\n",
       "  </tbody>\n",
       "</table>\n",
       "</div>"
      ],
      "text/plain": [
       "      item variety  year  last_price  delta\n",
       "0  Manzana    Gala  2020         2.7    0.0\n",
       "1  Manzana    Gala  2021         2.5   -0.2\n",
       "2  Manzana    Gala  2022         3.2    0.7"
      ]
     },
     "execution_count": 28,
     "metadata": {},
     "output_type": "execute_result"
    }
   ],
   "source": [
    "pd.DataFrame({\n",
    "    \"item\" : ['Manzana','Manzana','Manzana']\n",
    "    , \"variety\" : ['Gala','Gala','Gala']\n",
    "    , \"year\" : [2020,2021,2022]\n",
    "    , \"last_price\" :  [2.7,2.5,3.2]\n",
    "    , \"delta\" : [0, (2.5-2.7), (3.2-2.5)]\n",
    "})"
   ]
  },
  {
   "cell_type": "markdown",
   "id": "1ae39539-fc9a-467c-a0cd-6ed45263a143",
   "metadata": {},
   "source": [
    "Segun nuestro ejemplo dummy para 2021 estuvo 0.2 centavos mas barato y en 2022 estuvo 0.7 centavos caro"
   ]
  },
  {
   "cell_type": "markdown",
   "id": "d58e73b1-f571-4f52-9bfc-d2e6ecaa541e",
   "metadata": {},
   "source": [
    "----Obtengo el valor anterior de la columna last_price del dataframe vdf2 que es el que nos quedo en el ejercicio anterior"
   ]
  },
  {
   "cell_type": "code",
   "execution_count": 164,
   "id": "ad63ccc0-c2f6-44ed-8d41-4788b4cf69a1",
   "metadata": {},
   "outputs": [
    {
     "data": {
      "text/html": [
       "<div>\n",
       "<style scoped>\n",
       "    .dataframe tbody tr th:only-of-type {\n",
       "        vertical-align: middle;\n",
       "    }\n",
       "\n",
       "    .dataframe tbody tr th {\n",
       "        vertical-align: top;\n",
       "    }\n",
       "\n",
       "    .dataframe thead th {\n",
       "        text-align: right;\n",
       "    }\n",
       "</style>\n",
       "<table border=\"1\" class=\"dataframe\">\n",
       "  <thead>\n",
       "    <tr style=\"text-align: right;\">\n",
       "      <th></th>\n",
       "      <th>last_price</th>\n",
       "    </tr>\n",
       "  </thead>\n",
       "  <tbody>\n",
       "    <tr>\n",
       "      <th>0</th>\n",
       "      <td>NaN</td>\n",
       "    </tr>\n",
       "    <tr>\n",
       "      <th>1</th>\n",
       "      <td>0.29</td>\n",
       "    </tr>\n",
       "    <tr>\n",
       "      <th>2</th>\n",
       "      <td>NaN</td>\n",
       "    </tr>\n",
       "    <tr>\n",
       "      <th>3</th>\n",
       "      <td>0.72</td>\n",
       "    </tr>\n",
       "    <tr>\n",
       "      <th>4</th>\n",
       "      <td>1.05</td>\n",
       "    </tr>\n",
       "    <tr>\n",
       "      <th>...</th>\n",
       "      <td>...</td>\n",
       "    </tr>\n",
       "    <tr>\n",
       "      <th>392</th>\n",
       "      <td>2.00</td>\n",
       "    </tr>\n",
       "    <tr>\n",
       "      <th>393</th>\n",
       "      <td>1.83</td>\n",
       "    </tr>\n",
       "    <tr>\n",
       "      <th>394</th>\n",
       "      <td>NaN</td>\n",
       "    </tr>\n",
       "    <tr>\n",
       "      <th>395</th>\n",
       "      <td>11.44</td>\n",
       "    </tr>\n",
       "    <tr>\n",
       "      <th>396</th>\n",
       "      <td>12.68</td>\n",
       "    </tr>\n",
       "  </tbody>\n",
       "</table>\n",
       "<p>397 rows × 1 columns</p>\n",
       "</div>"
      ],
      "text/plain": [
       "     last_price\n",
       "0           NaN\n",
       "1          0.29\n",
       "2           NaN\n",
       "3          0.72\n",
       "4          1.05\n",
       "..          ...\n",
       "392        2.00\n",
       "393        1.83\n",
       "394         NaN\n",
       "395       11.44\n",
       "396       12.68\n",
       "\n",
       "[397 rows x 1 columns]"
      ]
     },
     "execution_count": 164,
     "metadata": {},
     "output_type": "execute_result"
    }
   ],
   "source": [
    "vdf2.groupby(['item'], as_index=False)['last_price'].shift(1)"
   ]
  },
  {
   "cell_type": "markdown",
   "id": "f5b89c75-b948-4879-a6d8-b5b6d0b50b18",
   "metadata": {},
   "source": [
    "----- Agrego la columna precio_anterior al dataframe eliminando los valores NaN, el resultado es el dataframe vdf3"
   ]
  },
  {
   "cell_type": "code",
   "execution_count": 168,
   "id": "691f6857-14b9-4f86-9e2a-1a7c3a35d2bc",
   "metadata": {},
   "outputs": [],
   "source": [
    "vdf2['precio_anterior'] = vdf2.groupby(['item'], as_index=False)['last_price'].shift(1)"
   ]
  },
  {
   "cell_type": "code",
   "execution_count": 172,
   "id": "841697b3-8763-4b9a-ad28-8138ea3b92fa",
   "metadata": {},
   "outputs": [],
   "source": [
    "vdf3 = vdf2.loc[ ~pd.isna(vdf2['precio_anterior']) , : ]"
   ]
  },
  {
   "cell_type": "code",
   "execution_count": 173,
   "id": "b5da2296-fec5-438c-896b-fcf7a9f091e0",
   "metadata": {},
   "outputs": [
    {
     "data": {
      "text/html": [
       "<div>\n",
       "<style scoped>\n",
       "    .dataframe tbody tr th:only-of-type {\n",
       "        vertical-align: middle;\n",
       "    }\n",
       "\n",
       "    .dataframe tbody tr th {\n",
       "        vertical-align: top;\n",
       "    }\n",
       "\n",
       "    .dataframe thead th {\n",
       "        text-align: right;\n",
       "    }\n",
       "</style>\n",
       "<table border=\"1\" class=\"dataframe\">\n",
       "  <thead>\n",
       "    <tr style=\"text-align: right;\">\n",
       "      <th></th>\n",
       "      <th>item</th>\n",
       "      <th>variety</th>\n",
       "      <th>year</th>\n",
       "      <th>last_price</th>\n",
       "      <th>precio_anterior</th>\n",
       "    </tr>\n",
       "  </thead>\n",
       "  <tbody>\n",
       "    <tr>\n",
       "      <th>1</th>\n",
       "      <td>alstromeria</td>\n",
       "      <td>indoor</td>\n",
       "      <td>2018</td>\n",
       "      <td>0.34</td>\n",
       "      <td>0.29</td>\n",
       "    </tr>\n",
       "    <tr>\n",
       "      <th>3</th>\n",
       "      <td>apples</td>\n",
       "      <td>braeburn</td>\n",
       "      <td>2018</td>\n",
       "      <td>1.05</td>\n",
       "      <td>0.72</td>\n",
       "    </tr>\n",
       "    <tr>\n",
       "      <th>4</th>\n",
       "      <td>apples</td>\n",
       "      <td>braeburn</td>\n",
       "      <td>2019</td>\n",
       "      <td>1.11</td>\n",
       "      <td>1.05</td>\n",
       "    </tr>\n",
       "    <tr>\n",
       "      <th>5</th>\n",
       "      <td>apples</td>\n",
       "      <td>braeburn</td>\n",
       "      <td>2020</td>\n",
       "      <td>1.25</td>\n",
       "      <td>1.11</td>\n",
       "    </tr>\n",
       "    <tr>\n",
       "      <th>6</th>\n",
       "      <td>apples</td>\n",
       "      <td>braeburn</td>\n",
       "      <td>2021</td>\n",
       "      <td>1.20</td>\n",
       "      <td>1.25</td>\n",
       "    </tr>\n",
       "    <tr>\n",
       "      <th>...</th>\n",
       "      <td>...</td>\n",
       "      <td>...</td>\n",
       "      <td>...</td>\n",
       "      <td>...</td>\n",
       "      <td>...</td>\n",
       "    </tr>\n",
       "    <tr>\n",
       "      <th>391</th>\n",
       "      <td>turnip</td>\n",
       "      <td>turnip</td>\n",
       "      <td>2020</td>\n",
       "      <td>2.00</td>\n",
       "      <td>1.58</td>\n",
       "    </tr>\n",
       "    <tr>\n",
       "      <th>392</th>\n",
       "      <td>turnip</td>\n",
       "      <td>turnip</td>\n",
       "      <td>2021</td>\n",
       "      <td>1.83</td>\n",
       "      <td>2.00</td>\n",
       "    </tr>\n",
       "    <tr>\n",
       "      <th>393</th>\n",
       "      <td>turnip</td>\n",
       "      <td>turnip</td>\n",
       "      <td>2022</td>\n",
       "      <td>1.87</td>\n",
       "      <td>1.83</td>\n",
       "    </tr>\n",
       "    <tr>\n",
       "      <th>395</th>\n",
       "      <td>watercress</td>\n",
       "      <td>pillow_packs</td>\n",
       "      <td>2018</td>\n",
       "      <td>12.68</td>\n",
       "      <td>11.44</td>\n",
       "    </tr>\n",
       "    <tr>\n",
       "      <th>396</th>\n",
       "      <td>watercress</td>\n",
       "      <td>pillow_packs</td>\n",
       "      <td>2019</td>\n",
       "      <td>10.16</td>\n",
       "      <td>12.68</td>\n",
       "    </tr>\n",
       "  </tbody>\n",
       "</table>\n",
       "<p>343 rows × 5 columns</p>\n",
       "</div>"
      ],
      "text/plain": [
       "            item       variety  year  last_price  precio_anterior\n",
       "1    alstromeria        indoor  2018        0.34             0.29\n",
       "3         apples      braeburn  2018        1.05             0.72\n",
       "4         apples      braeburn  2019        1.11             1.05\n",
       "5         apples      braeburn  2020        1.25             1.11\n",
       "6         apples      braeburn  2021        1.20             1.25\n",
       "..           ...           ...   ...         ...              ...\n",
       "391       turnip        turnip  2020        2.00             1.58\n",
       "392       turnip        turnip  2021        1.83             2.00\n",
       "393       turnip        turnip  2022        1.87             1.83\n",
       "395   watercress  pillow_packs  2018       12.68            11.44\n",
       "396   watercress  pillow_packs  2019       10.16            12.68\n",
       "\n",
       "[343 rows x 5 columns]"
      ]
     },
     "execution_count": 173,
     "metadata": {},
     "output_type": "execute_result"
    }
   ],
   "source": [
    "vdf3"
   ]
  },
  {
   "cell_type": "markdown",
   "id": "b090817d-d9c2-44fd-b050-e402480aeba8",
   "metadata": {},
   "source": [
    "---- Agrego la columna delta que es el resultado de la resta de las columnas last_price y precio_anterior"
   ]
  },
  {
   "cell_type": "code",
   "execution_count": 175,
   "id": "69d876d6-18cf-4d3e-ad68-901dc5685686",
   "metadata": {},
   "outputs": [
    {
     "name": "stderr",
     "output_type": "stream",
     "text": [
      "C:\\Users\\chuii\\AppData\\Local\\Temp/ipykernel_5604/3486414615.py:1: SettingWithCopyWarning: \n",
      "A value is trying to be set on a copy of a slice from a DataFrame.\n",
      "Try using .loc[row_indexer,col_indexer] = value instead\n",
      "\n",
      "See the caveats in the documentation: https://pandas.pydata.org/pandas-docs/stable/user_guide/indexing.html#returning-a-view-versus-a-copy\n",
      "  vdf3['delta'] = (vdf3['last_price'] - vdf3['precio_anterior'])\n"
     ]
    }
   ],
   "source": [
    "vdf3['delta'] = (vdf3['last_price'] - vdf3['precio_anterior'])"
   ]
  },
  {
   "cell_type": "markdown",
   "id": "5a4d9552-bc8c-42bd-ae88-f7153ffe1d8b",
   "metadata": {},
   "source": [
    "---- Los valores de delta son el resultado de la linea de codigo anterior"
   ]
  },
  {
   "cell_type": "markdown",
   "id": "9c8e2821-44e8-4d98-8e11-6d5b8395104b",
   "metadata": {},
   "source": [
    "----Pensaba eliminar la columna precio_anterior porque en el enunciado solo pide que se vean las otras pero la dejo para notar que la resta esta correcta. "
   ]
  },
  {
   "cell_type": "code",
   "execution_count": 177,
   "id": "7beca831-e3c2-4c4a-97e2-2a0fe9203080",
   "metadata": {},
   "outputs": [
    {
     "data": {
      "text/html": [
       "<div>\n",
       "<style scoped>\n",
       "    .dataframe tbody tr th:only-of-type {\n",
       "        vertical-align: middle;\n",
       "    }\n",
       "\n",
       "    .dataframe tbody tr th {\n",
       "        vertical-align: top;\n",
       "    }\n",
       "\n",
       "    .dataframe thead th {\n",
       "        text-align: right;\n",
       "    }\n",
       "</style>\n",
       "<table border=\"1\" class=\"dataframe\">\n",
       "  <thead>\n",
       "    <tr style=\"text-align: right;\">\n",
       "      <th></th>\n",
       "      <th>item</th>\n",
       "      <th>variety</th>\n",
       "      <th>year</th>\n",
       "      <th>last_price</th>\n",
       "      <th>precio_anterior</th>\n",
       "      <th>delta</th>\n",
       "    </tr>\n",
       "  </thead>\n",
       "  <tbody>\n",
       "    <tr>\n",
       "      <th>1</th>\n",
       "      <td>alstromeria</td>\n",
       "      <td>indoor</td>\n",
       "      <td>2018</td>\n",
       "      <td>0.34</td>\n",
       "      <td>0.29</td>\n",
       "      <td>0.05</td>\n",
       "    </tr>\n",
       "    <tr>\n",
       "      <th>3</th>\n",
       "      <td>apples</td>\n",
       "      <td>braeburn</td>\n",
       "      <td>2018</td>\n",
       "      <td>1.05</td>\n",
       "      <td>0.72</td>\n",
       "      <td>0.33</td>\n",
       "    </tr>\n",
       "    <tr>\n",
       "      <th>4</th>\n",
       "      <td>apples</td>\n",
       "      <td>braeburn</td>\n",
       "      <td>2019</td>\n",
       "      <td>1.11</td>\n",
       "      <td>1.05</td>\n",
       "      <td>0.06</td>\n",
       "    </tr>\n",
       "    <tr>\n",
       "      <th>5</th>\n",
       "      <td>apples</td>\n",
       "      <td>braeburn</td>\n",
       "      <td>2020</td>\n",
       "      <td>1.25</td>\n",
       "      <td>1.11</td>\n",
       "      <td>0.14</td>\n",
       "    </tr>\n",
       "    <tr>\n",
       "      <th>6</th>\n",
       "      <td>apples</td>\n",
       "      <td>braeburn</td>\n",
       "      <td>2021</td>\n",
       "      <td>1.20</td>\n",
       "      <td>1.25</td>\n",
       "      <td>-0.05</td>\n",
       "    </tr>\n",
       "    <tr>\n",
       "      <th>...</th>\n",
       "      <td>...</td>\n",
       "      <td>...</td>\n",
       "      <td>...</td>\n",
       "      <td>...</td>\n",
       "      <td>...</td>\n",
       "      <td>...</td>\n",
       "    </tr>\n",
       "    <tr>\n",
       "      <th>391</th>\n",
       "      <td>turnip</td>\n",
       "      <td>turnip</td>\n",
       "      <td>2020</td>\n",
       "      <td>2.00</td>\n",
       "      <td>1.58</td>\n",
       "      <td>0.42</td>\n",
       "    </tr>\n",
       "    <tr>\n",
       "      <th>392</th>\n",
       "      <td>turnip</td>\n",
       "      <td>turnip</td>\n",
       "      <td>2021</td>\n",
       "      <td>1.83</td>\n",
       "      <td>2.00</td>\n",
       "      <td>-0.17</td>\n",
       "    </tr>\n",
       "    <tr>\n",
       "      <th>393</th>\n",
       "      <td>turnip</td>\n",
       "      <td>turnip</td>\n",
       "      <td>2022</td>\n",
       "      <td>1.87</td>\n",
       "      <td>1.83</td>\n",
       "      <td>0.04</td>\n",
       "    </tr>\n",
       "    <tr>\n",
       "      <th>395</th>\n",
       "      <td>watercress</td>\n",
       "      <td>pillow_packs</td>\n",
       "      <td>2018</td>\n",
       "      <td>12.68</td>\n",
       "      <td>11.44</td>\n",
       "      <td>1.24</td>\n",
       "    </tr>\n",
       "    <tr>\n",
       "      <th>396</th>\n",
       "      <td>watercress</td>\n",
       "      <td>pillow_packs</td>\n",
       "      <td>2019</td>\n",
       "      <td>10.16</td>\n",
       "      <td>12.68</td>\n",
       "      <td>-2.52</td>\n",
       "    </tr>\n",
       "  </tbody>\n",
       "</table>\n",
       "<p>343 rows × 6 columns</p>\n",
       "</div>"
      ],
      "text/plain": [
       "            item       variety  year  last_price  precio_anterior  delta\n",
       "1    alstromeria        indoor  2018        0.34             0.29   0.05\n",
       "3         apples      braeburn  2018        1.05             0.72   0.33\n",
       "4         apples      braeburn  2019        1.11             1.05   0.06\n",
       "5         apples      braeburn  2020        1.25             1.11   0.14\n",
       "6         apples      braeburn  2021        1.20             1.25  -0.05\n",
       "..           ...           ...   ...         ...              ...    ...\n",
       "391       turnip        turnip  2020        2.00             1.58   0.42\n",
       "392       turnip        turnip  2021        1.83             2.00  -0.17\n",
       "393       turnip        turnip  2022        1.87             1.83   0.04\n",
       "395   watercress  pillow_packs  2018       12.68            11.44   1.24\n",
       "396   watercress  pillow_packs  2019       10.16            12.68  -2.52\n",
       "\n",
       "[343 rows x 6 columns]"
      ]
     },
     "execution_count": 177,
     "metadata": {},
     "output_type": "execute_result"
    }
   ],
   "source": [
    "vdf3"
   ]
  },
  {
   "cell_type": "markdown",
   "id": "e7bee68e-b5fd-4fda-874c-619a3b44335d",
   "metadata": {},
   "source": [
    "### Ejercicio cinco: Cual es precio promedio por item, variety\n",
    "\n",
    "Ejemplo de como se debe de mostrar su respuesta"
   ]
  },
  {
   "cell_type": "code",
   "execution_count": 29,
   "id": "7041ea50-4254-42d2-bf10-3c9ccda9a81f",
   "metadata": {},
   "outputs": [
    {
     "data": {
      "text/html": [
       "<div>\n",
       "<style scoped>\n",
       "    .dataframe tbody tr th:only-of-type {\n",
       "        vertical-align: middle;\n",
       "    }\n",
       "\n",
       "    .dataframe tbody tr th {\n",
       "        vertical-align: top;\n",
       "    }\n",
       "\n",
       "    .dataframe thead th {\n",
       "        text-align: right;\n",
       "    }\n",
       "</style>\n",
       "<table border=\"1\" class=\"dataframe\">\n",
       "  <thead>\n",
       "    <tr style=\"text-align: right;\">\n",
       "      <th></th>\n",
       "      <th>item</th>\n",
       "      <th>variety</th>\n",
       "      <th>year-month</th>\n",
       "      <th>avg-price</th>\n",
       "    </tr>\n",
       "  </thead>\n",
       "  <tbody>\n",
       "    <tr>\n",
       "      <th>0</th>\n",
       "      <td>Manzana</td>\n",
       "      <td>Gala</td>\n",
       "      <td>2021-01</td>\n",
       "      <td>0.5</td>\n",
       "    </tr>\n",
       "  </tbody>\n",
       "</table>\n",
       "</div>"
      ],
      "text/plain": [
       "      item variety year-month  avg-price\n",
       "0  Manzana    Gala    2021-01        0.5"
      ]
     },
     "execution_count": 29,
     "metadata": {},
     "output_type": "execute_result"
    }
   ],
   "source": [
    "pd.DataFrame({\n",
    "    \"item\" : ['Manzana']\n",
    "    , \"variety\" : ['Gala']\n",
    "    , \"year-month\" : ['2021-01']   \n",
    "    , \"avg-price\" : [0.5]\n",
    "})"
   ]
  },
  {
   "cell_type": "markdown",
   "id": "318d80ec-ae41-45ab-a041-e29b384b1268",
   "metadata": {},
   "source": [
    "---- Agrupo por item y variety y hago el calculo del mean por medio de la columna price. Renombro columnas"
   ]
  },
  {
   "cell_type": "code",
   "execution_count": 130,
   "id": "df21033d-e2d5-447d-be95-d4f605c22f5d",
   "metadata": {},
   "outputs": [],
   "source": [
    "promedio = vdf.groupby(['item', 'variety'], as_index = False).agg({'price' : ['mean']})"
   ]
  },
  {
   "cell_type": "code",
   "execution_count": 115,
   "id": "716a4f69-99e9-4ffe-b687-83e9ff6c409c",
   "metadata": {},
   "outputs": [],
   "source": [
    "promedio.columns = promedio.columns.droplevel(0)"
   ]
  },
  {
   "cell_type": "code",
   "execution_count": 116,
   "id": "439bcf8a-e35f-4571-90a2-2a384fc0d1d0",
   "metadata": {},
   "outputs": [],
   "source": [
    "promedio.columns = ['item', 'variety', 'avg-price']"
   ]
  },
  {
   "cell_type": "code",
   "execution_count": 131,
   "id": "f751e25a-510e-4c5c-ae2a-857f704a6529",
   "metadata": {},
   "outputs": [
    {
     "data": {
      "text/html": [
       "<div>\n",
       "<style scoped>\n",
       "    .dataframe tbody tr th:only-of-type {\n",
       "        vertical-align: middle;\n",
       "    }\n",
       "\n",
       "    .dataframe tbody tr th {\n",
       "        vertical-align: top;\n",
       "    }\n",
       "\n",
       "    .dataframe thead tr th {\n",
       "        text-align: left;\n",
       "    }\n",
       "</style>\n",
       "<table border=\"1\" class=\"dataframe\">\n",
       "  <thead>\n",
       "    <tr>\n",
       "      <th></th>\n",
       "      <th>item</th>\n",
       "      <th>variety</th>\n",
       "      <th>price</th>\n",
       "    </tr>\n",
       "    <tr>\n",
       "      <th></th>\n",
       "      <th></th>\n",
       "      <th></th>\n",
       "      <th>mean</th>\n",
       "    </tr>\n",
       "  </thead>\n",
       "  <tbody>\n",
       "    <tr>\n",
       "      <th>0</th>\n",
       "      <td>alstromeria</td>\n",
       "      <td>indoor</td>\n",
       "      <td>0.281207</td>\n",
       "    </tr>\n",
       "    <tr>\n",
       "      <th>1</th>\n",
       "      <td>apples</td>\n",
       "      <td>braeburn</td>\n",
       "      <td>0.898141</td>\n",
       "    </tr>\n",
       "    <tr>\n",
       "      <th>2</th>\n",
       "      <td>apples</td>\n",
       "      <td>bramleys_seedling</td>\n",
       "      <td>1.217156</td>\n",
       "    </tr>\n",
       "    <tr>\n",
       "      <th>3</th>\n",
       "      <td>apples</td>\n",
       "      <td>coxs_orange_group</td>\n",
       "      <td>0.984681</td>\n",
       "    </tr>\n",
       "    <tr>\n",
       "      <th>4</th>\n",
       "      <td>apples</td>\n",
       "      <td>egremont_russet</td>\n",
       "      <td>1.160000</td>\n",
       "    </tr>\n",
       "    <tr>\n",
       "      <th>...</th>\n",
       "      <td>...</td>\n",
       "      <td>...</td>\n",
       "      <td>...</td>\n",
       "    </tr>\n",
       "    <tr>\n",
       "      <th>80</th>\n",
       "      <td>tomatoes</td>\n",
       "      <td>round</td>\n",
       "      <td>1.021479</td>\n",
       "    </tr>\n",
       "    <tr>\n",
       "      <th>81</th>\n",
       "      <td>tomatoes</td>\n",
       "      <td>vine</td>\n",
       "      <td>1.518955</td>\n",
       "    </tr>\n",
       "    <tr>\n",
       "      <th>82</th>\n",
       "      <td>tulips</td>\n",
       "      <td>tulips</td>\n",
       "      <td>0.211031</td>\n",
       "    </tr>\n",
       "    <tr>\n",
       "      <th>83</th>\n",
       "      <td>turnip</td>\n",
       "      <td>turnip</td>\n",
       "      <td>1.232332</td>\n",
       "    </tr>\n",
       "    <tr>\n",
       "      <th>84</th>\n",
       "      <td>watercress</td>\n",
       "      <td>pillow_packs</td>\n",
       "      <td>9.374348</td>\n",
       "    </tr>\n",
       "  </tbody>\n",
       "</table>\n",
       "<p>85 rows × 3 columns</p>\n",
       "</div>"
      ],
      "text/plain": [
       "           item            variety     price\n",
       "                                        mean\n",
       "0   alstromeria             indoor  0.281207\n",
       "1        apples           braeburn  0.898141\n",
       "2        apples  bramleys_seedling  1.217156\n",
       "3        apples  coxs_orange_group  0.984681\n",
       "4        apples    egremont_russet  1.160000\n",
       "..          ...                ...       ...\n",
       "80     tomatoes              round  1.021479\n",
       "81     tomatoes               vine  1.518955\n",
       "82       tulips             tulips  0.211031\n",
       "83       turnip             turnip  1.232332\n",
       "84   watercress       pillow_packs  9.374348\n",
       "\n",
       "[85 rows x 3 columns]"
      ]
     },
     "execution_count": 131,
     "metadata": {},
     "output_type": "execute_result"
    }
   ],
   "source": [
    "promedio"
   ]
  },
  {
   "cell_type": "markdown",
   "id": "00f6fd8d-62c2-4838-910e-c4f9a7cf93f3",
   "metadata": {},
   "source": [
    "### Ejercicio seis: muestre por category,item,variety que tanto % ha aumentado su precio\n",
    "\n",
    "Ejemplo: si para las manzanas gala el primer precio que se registro fue 2.00 y el ultimo precio que se registro es 4.00 este aumento un 100%"
   ]
  },
  {
   "cell_type": "code",
   "execution_count": 36,
   "id": "b6d2eff5-6029-4136-866d-2fa7afb24c4b",
   "metadata": {},
   "outputs": [
    {
     "data": {
      "text/html": [
       "<div>\n",
       "<style scoped>\n",
       "    .dataframe tbody tr th:only-of-type {\n",
       "        vertical-align: middle;\n",
       "    }\n",
       "\n",
       "    .dataframe tbody tr th {\n",
       "        vertical-align: top;\n",
       "    }\n",
       "\n",
       "    .dataframe thead th {\n",
       "        text-align: right;\n",
       "    }\n",
       "</style>\n",
       "<table border=\"1\" class=\"dataframe\">\n",
       "  <thead>\n",
       "    <tr style=\"text-align: right;\">\n",
       "      <th></th>\n",
       "      <th>category</th>\n",
       "      <th>item</th>\n",
       "      <th>variety</th>\n",
       "      <th>percentage-change-between-first-and-last-price</th>\n",
       "    </tr>\n",
       "  </thead>\n",
       "  <tbody>\n",
       "    <tr>\n",
       "      <th>0</th>\n",
       "      <td>fruta</td>\n",
       "      <td>Manzana</td>\n",
       "      <td>Gala</td>\n",
       "      <td>200</td>\n",
       "    </tr>\n",
       "    <tr>\n",
       "      <th>1</th>\n",
       "      <td>fruta</td>\n",
       "      <td>Manzana</td>\n",
       "      <td>egremont_russet</td>\n",
       "      <td>150</td>\n",
       "    </tr>\n",
       "  </tbody>\n",
       "</table>\n",
       "</div>"
      ],
      "text/plain": [
       "  category     item          variety  \\\n",
       "0    fruta  Manzana             Gala   \n",
       "1    fruta  Manzana  egremont_russet   \n",
       "\n",
       "   percentage-change-between-first-and-last-price  \n",
       "0                                             200  \n",
       "1                                             150  "
      ]
     },
     "execution_count": 36,
     "metadata": {},
     "output_type": "execute_result"
    }
   ],
   "source": [
    "pd.DataFrame({\n",
    "    \"category\": [\"fruta\",\"fruta\"]\n",
    "    ,\"item\" : ['Manzana','Manzana']\n",
    "    , \"variety\" : ['Gala','egremont_russet']\n",
    "    , \"percentage-change-between-first-and-last-price\" : [200,150]       \n",
    "})"
   ]
  },
  {
   "cell_type": "code",
   "execution_count": 128,
   "id": "12c7fde0-97d6-4945-9213-5f0f108eef13",
   "metadata": {},
   "outputs": [
    {
     "data": {
      "text/plain": [
       "<pandas.core.groupby.generic.DataFrameGroupBy object at 0x000002141D4EDFD0>"
      ]
     },
     "execution_count": 128,
     "metadata": {},
     "output_type": "execute_result"
    }
   ],
   "source": []
  },
  {
   "cell_type": "markdown",
   "id": "0b507b1e-35d8-4a2f-bfb2-2fa034d453a4",
   "metadata": {
    "tags": []
   },
   "source": [
    "### Ejercicio siete: Segun el ejercicio seis por category cual es el item,variety con mayor aumento de crecimiento \n",
    "\n",
    "Segun el ejemplo dummy que se utilizo en el ejercicio seis para la category fruta se mostraria la manzana gala unicamente"
   ]
  },
  {
   "cell_type": "code",
   "execution_count": null,
   "id": "993b4429-8505-4e88-8fdd-3470574a41e0",
   "metadata": {},
   "outputs": [],
   "source": []
  }
 ],
 "metadata": {
  "kernelspec": {
   "display_name": "Python 3 (ipykernel)",
   "language": "python",
   "name": "python3"
  },
  "language_info": {
   "codemirror_mode": {
    "name": "ipython",
    "version": 3
   },
   "file_extension": ".py",
   "mimetype": "text/x-python",
   "name": "python",
   "nbconvert_exporter": "python",
   "pygments_lexer": "ipython3",
   "version": "3.9.7"
  }
 },
 "nbformat": 4,
 "nbformat_minor": 5
}
